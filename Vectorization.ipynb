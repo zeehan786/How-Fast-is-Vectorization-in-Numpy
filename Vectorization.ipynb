{
 "cells": [
  {
   "cell_type": "code",
   "execution_count": 1,
   "id": "009bcbc5",
   "metadata": {},
   "outputs": [],
   "source": [
    "import numpy as np\n",
    "from sklearn import datasets\n",
    "import time\n",
    "import matplotlib.pyplot as plt\n",
    "import math"
   ]
  },
  {
   "cell_type": "code",
   "execution_count": 2,
   "id": "4ef522e0",
   "metadata": {},
   "outputs": [],
   "source": [
    "def compute_distance_naive(X):\n",
    "    N = X.shape[0]      # num of rows\n",
    "    D = X[0].shape[0]   # num of cols\n",
    "    \n",
    "    M = np.zeros([N,N])\n",
    "    \n",
    "    for i in range(N):\n",
    "        xi = X[i,:] #calculate the Euclidean distance between xi and all the other vector(including itself)\n",
    "        for j in range(N):\n",
    "            xj = X[j,:] #calculate the Euclidean distance between xj and xi\n",
    "            dist = np.square(xi-xj) #element wise subtraction between the two vectors and then squaring the difference\n",
    "            dist = np.sum(dist,axis = 0) #adding the vector(after squaring in the line above)\n",
    "            dist = np.sqrt(dist) # finally taking out the square root of the sum\n",
    "                                # the whole step can be summarized into the Euclidean distance formula\n",
    "            M[i,j] = dist #storing the Euclidean distance of each pair\n",
    "            \n",
    "    return M"
   ]
  },
  {
   "cell_type": "code",
   "execution_count": 3,
   "id": "73ad4d44",
   "metadata": {},
   "outputs": [],
   "source": [
    "def compute_distance_smart(X):\n",
    "    N = X.shape[0]  # num of rows\n",
    "    D = X[0].shape[0]  # num of cols\n",
    "    \n",
    "    # use X to create M\n",
    "    M = np.zeros([N, N])\n",
    "    \n",
    "    #using the formula: ||xi - xj|| = sqrt(||xi||^2 - 2transpose(xi)xj + ||xj||^2)\n",
    "    \n",
    "    # ||xi||^2, but calculating the distance of all the vectors at once using matrix dot product\n",
    "    V_length = np.square(X) #using the fact: x * x = ||x||^2\n",
    "    V_length = np.sum(V_length, axis = 1) #summing the value to get the length of the vectors\n",
    "\n",
    "    # -2transpose(xi)xj\n",
    "    X_T = np.transpose(X)\n",
    "    matrix_prod = -2 * np.dot(X, X_T)\n",
    "\n",
    "    #transpose of matrix is an inexpensive operation O(1) as numpy just swaps the shape and stride information for each axis\n",
    "    M1 = np.add(np.transpose(matrix_prod), V_length)\n",
    "    \n",
    "    #sqrt(||xi||^2 - 2transpose(xi)xj + ||xj||^2), finally taking the square of the whole result\n",
    "    M = np.sqrt(np.abs(np.add(np.transpose(M1), V_length)))\n",
    "    \n",
    "    return M"
   ]
  },
  {
   "cell_type": "code",
   "execution_count": 4,
   "id": "f3e964dd",
   "metadata": {},
   "outputs": [],
   "source": [
    "def compute_correlation_naive(X):\n",
    "    N = X.shape[0]  # num of rows\n",
    "    D = X[0].shape[0]  # num of cols\n",
    "    \n",
    "    #calculating the sample mean of X beforehand\n",
    "    mean = (np.sum(X, axis = 0))/N\n",
    "    \n",
    "    #calcuting the sample mean of X beforehand\n",
    "    X = X - mean\n",
    "\n",
    "    S = np.zeros([D, D])\n",
    "    \n",
    "    for i in range(D):\n",
    "        xi = X[:, i]\n",
    "        for j in range(D):\n",
    "            xj = X[:, j] \n",
    "            prod = xi * xj #element wise multiplication of two vectors\n",
    "            sum = np.sum(prod, axis = 0) #adding the result of the above line\n",
    "            cov_var = sum / (N-1) #finally completing the formula to calcualte the sample covariance matrix\n",
    "            S[i,j] = cov_var\n",
    "    \n",
    "    #as divisions are performed in subsequent lines, ignoring the value for division by zero\n",
    "    np.seterr(invalid='ignore')\n",
    "    stand_dev = np.diag(np.sqrt(np.abs(S))) #calculating the standard deviation\n",
    "    \n",
    "    corr_max = S / stand_dev #dividing the sample covariance matrix by the first denominator\n",
    "    corr_max = np.transpose(corr_max) #performing transpose to divide by the second denominator\n",
    "    corr_max = corr_max / stand_dev   #dividing it by the second denominator\n",
    "\n",
    "    return corr_max"
   ]
  },
  {
   "cell_type": "code",
   "execution_count": 5,
   "id": "f5141df5",
   "metadata": {},
   "outputs": [],
   "source": [
    "def compute_correlation_smart(X):\n",
    "    N = X.shape[0]  # num of rows\n",
    "    D = X[0].shape[0]  # num of cols\n",
    "\n",
    "    # use X to create M\n",
    "    M = np.zeros([D, D])\n",
    "    \n",
    "    #calculating the sample mean of X beforehand\n",
    "    mean = (np.sum(X, axis = 0))/N\n",
    "    X = X - mean\n",
    "\n",
    "    X_T = np.transpose(X)\n",
    "    \n",
    "    #using dot product of X's tranpose and X instead of using loops\n",
    "    M1 = np.dot(X_T, X)\n",
    "    \n",
    "    #as divisions are performed in subsequent lines, ignoring the value for division by zero\n",
    "    np.seterr(invalid='ignore')\n",
    "    \n",
    "    S = M1 / (N-1) #finally completing the formula to calcualte the sample covariance matrix\n",
    "    stand_dev = np.diag(np.sqrt(np.abs(S)))#calculating the standard deviation\n",
    "    \n",
    "    corr_max = S/stand_dev  #dividing the sample covariance matrix by the first denominator\n",
    "    corr_max = np.transpose(corr_max)  #performing transpose to divide by the second denominator\n",
    "    corr_max = corr_max / stand_dev #dividing it by the second denominator\n",
    "\n",
    "    return corr_max"
   ]
  },
  {
   "cell_type": "code",
   "execution_count": 6,
   "id": "b0c7ae25",
   "metadata": {},
   "outputs": [],
   "source": [
    "#the function estimates the mean running time of the three datasets(Iris, Digits and Breast Cancer), with and without loops\n",
    "def compute_sk_datasets(X, data_name):\n",
    "    perf_dist_loop = np.zeros([5])  # 5 trials\n",
    "    perf_dist_cool = np.zeros([5])\n",
    "    perf_corr_loop = np.zeros([5])  # 5 trials\n",
    "    perf_corr_cool = np.zeros([5])\n",
    " \n",
    "    for i in range(5):\n",
    "        # compute distance matrices\n",
    "        st = time.time()\n",
    "        dist_loop = compute_distance_naive(X)\n",
    "        et = time.time()\n",
    "        perf_dist_loop[i] = et - st              # time difference\n",
    "\n",
    "        st = time.time()\n",
    "        dist_cool = compute_distance_smart(X)\n",
    "        et = time.time()\n",
    "        perf_dist_cool[i] = et - st\n",
    "\n",
    "        # compute correlation matrices\n",
    "        st = time.time()\n",
    "        corr_loop = compute_correlation_naive(X)\n",
    "        et = time.time()\n",
    "        perf_corr_loop[i] = et - st              # time difference\n",
    "\n",
    "        st = time.time()\n",
    "        corr_cool = compute_correlation_smart(X)\n",
    "        et = time.time()\n",
    "        perf_corr_cool[i] = et - st\n",
    "        \n",
    "    mean_dist_loop = np.mean(perf_dist_loop, axis = 0)    # mean time for each parameter setting (over 10 trials)\n",
    "    mean_dist_cool = np.mean(perf_dist_cool, axis = 0)\n",
    "\n",
    "    mean_corr_loop = np.mean(perf_corr_loop, axis = 0)    # mean time for each parameter setting (over 10 trials)\n",
    "    mean_corr_cool = np.mean(perf_corr_cool, axis = 0)\n",
    "\n",
    "    print(\"Computational times for \", data_name, \" dataset\")\n",
    "\n",
    "    print(\"The average time to compute distance matrix using loop is: \", mean_dist_loop, \" seconds\")\n",
    "    print(\"The average time to compute distance matrix using matrix operation is: \", mean_dist_cool, \" seconds\")\n",
    "\n",
    "    print(\"The average time to compute correlation matrix using loop is: \", mean_corr_loop, \" seconds\")\n",
    "    print(\"The average time to compute correlation matrix using matrix operation is: \", mean_corr_cool, \" seconds\")"
   ]
  },
  {
   "cell_type": "code",
   "execution_count": 7,
   "id": "c6fb1d0e",
   "metadata": {},
   "outputs": [],
   "source": [
    "def main():\n",
    "    print ('starting comparing distance computation .....')\n",
    "    np.random.seed(100)\n",
    "    params = range(10,141,10)   # different param setting\n",
    "    nparams = len(params)       # number of different parameters\n",
    "\n",
    "    perf_dist_loop = np.zeros([10,nparams])  # 10 trials = 10 rows, each parameter is a column\n",
    "    perf_dist_cool = np.zeros([10,nparams])\n",
    "    perf_corr_loop = np.zeros([10,nparams])  # 10 trials = 10 rows, each parameter is a column\n",
    "    perf_corr_cool = np.zeros([10,nparams])\n",
    "\n",
    "    counter = 0\n",
    "\n",
    "    for ncols in params:\n",
    "        nrows = ncols * 10\n",
    "\n",
    "        print (\"matrix dimensions: \", nrows, ncols)\n",
    "\n",
    "        for i in range(10):\n",
    "            X = np.random.rand(nrows, ncols)   # random matrix\n",
    "\n",
    "            # compute distance matrices\n",
    "            st = time.time()\n",
    "            dist_loop = compute_distance_naive(X)\n",
    "            et = time.time()\n",
    "            perf_dist_loop[i,counter] = et - st              # time difference\n",
    "\n",
    "            st = time.time()\n",
    "            dist_cool = compute_distance_smart(X)\n",
    "            et = time.time()\n",
    "            perf_dist_cool[i,counter] = et - st\n",
    "\n",
    "            assert np.allclose(dist_loop, dist_cool, atol=1e-06) # check if the two computed matrices are identical all the time\n",
    "\n",
    "            # compute correlation matrices\n",
    "            st = time.time()\n",
    "            corr_loop = compute_correlation_naive(X)\n",
    "            et = time.time()\n",
    "            perf_corr_loop[i,counter] = et - st              # time difference\n",
    "\n",
    "            st = time.time()\n",
    "            corr_cool = compute_correlation_smart(X)\n",
    "            et = time.time()\n",
    "            perf_corr_cool[i,counter] = et - st\n",
    "\n",
    "            assert np.allclose(corr_loop, corr_cool, atol=1e-06) # check if the two computed matrices are identical all the time\n",
    "\n",
    "        counter = counter + 1\n",
    "\n",
    "    mean_dist_loop = np.mean(perf_dist_loop, axis = 0)    # mean time for each parameter setting (over 10 trials)\n",
    "    mean_dist_cool = np.mean(perf_dist_cool, axis = 0)\n",
    "    std_dist_loop = np.std(perf_dist_loop, axis = 0)      # standard deviation\n",
    "    std_dist_cool = np.std(perf_dist_cool, axis = 0)\n",
    "\n",
    "    plt.figure(1)\n",
    "    plt.errorbar(params, mean_dist_loop[0:nparams], yerr=std_dist_loop[0:nparams], color='red',label = 'Loop Solution for Distance Comp')\n",
    "    plt.errorbar(params, mean_dist_cool[0:nparams], yerr=std_dist_cool[0:nparams], color='blue', label = 'Matrix Solution for Distance Comp')\n",
    "    plt.xlabel('Number of Cols of the Matrix')\n",
    "    plt.ylabel('Running Time (Seconds)')\n",
    "    plt.title('Comparing Distance Computation Methods')\n",
    "    plt.legend()\n",
    "    plt.savefig('CompareDistanceCompFig.pdf')\n",
    "    # plt.show()    # uncomment this if you want to see it right way\n",
    "    print (\"result is written to CompareDistanceCompFig.pdf\")\n",
    "\n",
    "    mean_corr_loop = np.mean(perf_corr_loop, axis = 0)    # mean time for each parameter setting (over 10 trials)\n",
    "    mean_corr_cool = np.mean(perf_corr_cool, axis = 0)\n",
    "    std_corr_loop = np.std(perf_corr_loop, axis = 0)      # standard deviation\n",
    "    std_corr_cool = np.std(perf_corr_cool, axis = 0)\n",
    "\n",
    "    plt.figure(2)\n",
    "    plt.errorbar(params, mean_corr_loop[0:nparams], yerr=std_corr_loop[0:nparams], color='red',label = 'Loop Solution for Correlation Comp')\n",
    "    plt.errorbar(params, mean_corr_cool[0:nparams], yerr=std_corr_cool[0:nparams], color='blue', label = 'Matrix Solution for Correlation Comp')\n",
    "    plt.xlabel('Number of Cols of the Matrix')\n",
    "    plt.ylabel('Running Time (Seconds)')\n",
    "    plt.title('Comparing Correlation Computation Methods')\n",
    "    plt.legend()\n",
    "    plt.savefig('CompareCorrelationCompFig.pdf')\n",
    "    # plt.show()    # uncomment this if you want to see it right way\n",
    "    print (\"result is written to CompareCorrelationCompFig.pdf\")\n",
    "    \n",
    "    \n",
    "    iris = datasets.load_iris()\n",
    "    compute_sk_datasets(iris.data, \"Iris\")\n",
    "    \n",
    "    digits = datasets.load_digits()\n",
    "    compute_sk_datasets(digits.data, \"Digits\")\n",
    "    \n",
    "    breast_cancer = datasets.load_breast_cancer()\n",
    "    compute_sk_datasets(breast_cancer.data, \"Breast Cancer\")"
   ]
  },
  {
   "cell_type": "code",
   "execution_count": 8,
   "id": "f78a4d18",
   "metadata": {
    "scrolled": true
   },
   "outputs": [
    {
     "name": "stdout",
     "output_type": "stream",
     "text": [
      "starting comparing distance computation .....\n",
      "matrix dimensions:  100 10\n",
      "matrix dimensions:  200 20\n",
      "matrix dimensions:  300 30\n",
      "matrix dimensions:  400 40\n",
      "matrix dimensions:  500 50\n",
      "matrix dimensions:  600 60\n",
      "matrix dimensions:  700 70\n",
      "matrix dimensions:  800 80\n",
      "matrix dimensions:  900 90\n",
      "matrix dimensions:  1000 100\n",
      "matrix dimensions:  1100 110\n",
      "matrix dimensions:  1200 120\n",
      "matrix dimensions:  1300 130\n",
      "matrix dimensions:  1400 140\n",
      "result is written to CompareDistanceCompFig.pdf\n",
      "result is written to CompareCorrelationCompFig.pdf\n",
      "Computational times for  Iris  dataset\n",
      "The average time to compute distance matrix using loop is:  0.482045316696167  seconds\n",
      "The average time to compute distance matrix using matrix operation is:  0.0  seconds\n",
      "The average time to compute correlation matrix using loop is:  0.0021715641021728517  seconds\n",
      "The average time to compute correlation matrix using matrix operation is:  0.0  seconds\n",
      "Computational times for  Digits  dataset\n",
      "The average time to compute distance matrix using loop is:  64.19821653366088  seconds\n",
      "The average time to compute distance matrix using matrix operation is:  0.10481634140014648  seconds\n",
      "The average time to compute correlation matrix using loop is:  0.15220098495483397  seconds\n",
      "The average time to compute correlation matrix using matrix operation is:  0.0  seconds\n",
      "Computational times for  Breast Cancer  dataset\n",
      "The average time to compute distance matrix using loop is:  6.220713996887207  seconds\n",
      "The average time to compute distance matrix using matrix operation is:  0.010718917846679688  seconds\n",
      "The average time to compute correlation matrix using loop is:  0.02626795768737793  seconds\n",
      "The average time to compute correlation matrix using matrix operation is:  0.0004093647003173828  seconds\n"
     ]
    },
    {
     "data": {
      "image/png": "[encoded data removed]",
      "text/plain": [
       "<Figure size 432x288 with 1 Axes>"
      ]
     },
     "metadata": {
      "needs_background": "light"
     },
     "output_type": "display_data"
    },
    {
     "data": {
      "image/png": "[encoded data removed]",
      "text/plain": [
       "<Figure size 432x288 with 1 Axes>"
      ]
     },
     "metadata": {
      "needs_background": "light"
     },
     "output_type": "display_data"
    }
   ],
   "source": [
    "if __name__ == \"__main__\": main()"
   ]
  },
  {
   "cell_type": "code",
   "execution_count": 28,
   "id": "c5ff78cb",
   "metadata": {},
   "outputs": [
    {
     "name": "stdout",
     "output_type": "stream",
     "text": [
      "(1797, 64)\n"
     ]
    },
    {
     "data": {
      "text/plain": [
       "212"
      ]
     },
     "execution_count": 28,
     "metadata": {},
     "output_type": "execute_result"
    }
   ],
   "source": [
    "digits = datasets.load_digits()\n",
    "print(digits.data.shape)\n",
    "    \n",
    "breast_cancer = datasets.load_breast_cancer()\n",
    "A = breast_cancer.target\n",
    "A[A == 0] = -1\n",
    "# print(np.where(A > 0)[0][0])\n",
    "(A<0).sum()\n",
    "# print(breast_cancer.data)"
   ]
  },
  {
   "cell_type": "code",
   "execution_count": 72,
   "id": "b40de733",
   "metadata": {},
   "outputs": [
    {
     "name": "stdout",
     "output_type": "stream",
     "text": [
      "Time taken  0.011458635330200195\n",
      "Time taken  5.951224327087402\n",
      "Time taken  0.0\n",
      "Time taken  0.03272604942321777\n"
     ]
    }
   ],
   "source": [
    "iris = datasets.load_iris()\n",
    "digits = datasets.load_digits()\n",
    "breast_cancer = datasets.load_breast_cancer()\n",
    "\n",
    "st = time.time()\n",
    "compute_distance_smart(breast_cancer.data)\n",
    "et = time.time()\n",
    "\n",
    "print(\"Time taken \", et - st)\n",
    "\n",
    "st = time.time()\n",
    "compute_distance_naive(breast_cancer.data)\n",
    "et = time.time()\n",
    "\n",
    "print(\"Time taken \", et - st)\n",
    "\n",
    "# compute correlation matrices\n",
    "st = time.time()\n",
    "compute_correlation_smart(breast_cancer.data)\n",
    "et = time.time()\n",
    "\n",
    "print(\"Time taken \", et - st)\n",
    "\n",
    "st = time.time()\n",
    "compute_correlation_naive(breast_cancer.data)\n",
    "et = time.time()\n",
    "\n",
    "print(\"Time taken \", et - st)"
   ]
  },
  {
   "cell_type": "code",
   "execution_count": 67,
   "id": "4bcf9607",
   "metadata": {},
   "outputs": [
    {
     "name": "stdout",
     "output_type": "stream",
     "text": [
      "[0. 0. 0. 0. 0.]\n"
     ]
    }
   ],
   "source": [
    "p = np.zeros([5])\n",
    "print(p)"
   ]
  },
  {
   "cell_type": "code",
   "execution_count": null,
   "id": "462b7ed1",
   "metadata": {},
   "outputs": [],
   "source": []
  },
  {
   "cell_type": "code",
   "execution_count": null,
   "id": "3b665bc4",
   "metadata": {},
   "outputs": [],
   "source": []
  },
  {
   "cell_type": "code",
   "execution_count": null,
   "id": "0adacf7a",
   "metadata": {},
   "outputs": [],
   "source": []
  }
 ],
 "metadata": {
  "kernelspec": {
   "display_name": "Python 3 (ipykernel)",
   "language": "python",
   "name": "python3"
  },
  "language_info": {
   "codemirror_mode": {
    "name": "ipython",
    "version": 3
   },
   "file_extension": ".py",
   "mimetype": "text/x-python",
   "name": "python",
   "nbconvert_exporter": "python",
   "pygments_lexer": "ipython3",
   "version": "3.10.1"
  }
 },
 "nbformat": 4,
 "nbformat_minor": 5
}
